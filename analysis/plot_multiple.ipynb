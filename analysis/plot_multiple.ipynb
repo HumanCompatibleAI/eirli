{
 "cells": [
  {
   "cell_type": "code",
   "execution_count": null,
   "metadata": {},
   "outputs": [],
   "source": [
    "import json\n",
    "import os\n",
    "import seaborn as sns\n",
    "import numpy as np\n",
    "import pandas as pd\n",
    "\n",
    "test_dir = \"/scratch/cynthiachen/ilr-results/dmc-10-trajs-temporal-cpc-2021-05-17/test-results/1\"\n",
    "eval_files = [os.path.join(test_dir, f) for f in os.listdir(test_dir) if 'eval' in f]\n",
    "eval_files.sort()\n",
    "\n",
    "with open(os.path.join(test_dir, 'config.json')) as f:\n",
    "    test_config = json.load(f)\n",
    "    \n",
    "benchmark_name = test_config['env_cfg']['task_name']\n",
    "policy_dir = test_config['policy_dir']\n",
    "\n",
    "if policy_dir[-1] == '/':\n",
    "    policy_dir = os.path.dirname(policy_dir)\n",
    "\n",
    "train_config_file = os.path.join(os.path.dirname(policy_dir), 'config.json')\n",
    "\n",
    "with open(train_config_file) as f:\n",
    "    train_config = json.load(f)\n",
    "    \n",
    "train_exp_ident = train_config['exp_ident']\n",
    "if train_exp_ident == 'dmc-full-trajs-consistent-augs':\n",
    "    if train_config['bc']['n_trajs']:\n",
    "        train_exp_ident = f\"dmc-{train_config['bc']['n_trajs']}-trajs-consistent-augs\"\n",
    "\n",
    "print(train_exp_ident)\n",
    "print(test_config)\n",
    "print(benchmark_name)\n",
    "print(policy_dir)"
   ]
  },
  {
   "cell_type": "markdown",
   "metadata": {},
   "source": [
    "## Plot return curves"
   ]
  },
  {
   "cell_type": "code",
   "execution_count": null,
   "metadata": {},
   "outputs": [],
   "source": [
    "def get_mean_nupdate_list(eval_files):\n",
    "    mean_list = []\n",
    "    nupdate_list = []\n",
    "    for eval_file in eval_files:\n",
    "        with open(eval_file) as f:\n",
    "            test_result = json.load(f)\n",
    "        mean_list.append(test_result['return_mean'])\n",
    "        policy_name = test_result['policy_path'].split('/')[-1]\n",
    "        nupdate = int(policy_name.split('_')[-2])\n",
    "        nupdate_list.append(nupdate)\n",
    "    return mean_list, nupdate_list\n",
    "\n",
    "mean_list, nupdate_list = get_mean_nupdate_list(eval_files)\n",
    "\n",
    "# The lists might not be sorted according to nupdates, so we make sure\n",
    "# they are sorted correctly here.\n",
    "sorted_idx = sorted(range(len(nupdate_list)), key=lambda k: nupdate_list[k])\n",
    "mean_list = [mean_list[idx] for idx in sorted_idx]\n",
    "nupdate_list = [nupdate_list[idx] for idx in sorted_idx]\n",
    "\n",
    "mean_dict = {'return_mean': mean_list, 'n_update': nupdate_list}\n",
    "mean_df = pd.DataFrame(mean_dict)\n",
    "\n",
    "sns.set(style='darkgrid')\n",
    "ax = sns.lineplot(x='n_update', y='return_mean', data=mean_df)\n",
    "ax.set_title(f\"{benchmark_name}-{train_exp_ident}\")\n",
    "\n",
    "fig = ax.get_figure()\n",
    "fig.savefig(f\"{test_dir}/return_curve.png\")\n",
    "\n",
    "print(mean_list, nupdate_list)\n",
    "print(sorted_idx)"
   ]
  },
  {
   "cell_type": "markdown",
   "metadata": {},
   "source": [
    "## Plot loss curves"
   ]
  },
  {
   "cell_type": "code",
   "execution_count": null,
   "metadata": {},
   "outputs": [],
   "source": [
    "from pathlib import Path\n",
    "train_folder = Path(policy_dir).parent.absolute()\n",
    "progress_path = os.path.join(train_folder, 'progress.csv')\n",
    "progress_df = pd.read_csv(progress_path)\n",
    "\n",
    "ax = sns.lineplot(x='n_updates', y='loss', data=progress_df)\n",
    "ax.set_title(f\"{benchmark_name}-{train_exp_ident}\")\n",
    "\n",
    "fig = ax.get_figure()\n",
    "fig.savefig(f\"{test_dir}/loss_curve.png\")"
   ]
  },
  {
   "cell_type": "code",
   "execution_count": null,
   "metadata": {},
   "outputs": [],
   "source": []
  }
 ],
 "metadata": {
  "kernelspec": {
   "display_name": "Python 3",
   "language": "python",
   "name": "python3"
  },
  "language_info": {
   "codemirror_mode": {
    "name": "ipython",
    "version": 3
   },
   "file_extension": ".py",
   "mimetype": "text/x-python",
   "name": "python",
   "nbconvert_exporter": "python",
   "pygments_lexer": "ipython3",
   "version": "3.8.8"
  }
 },
 "nbformat": 4,
 "nbformat_minor": 4
}
