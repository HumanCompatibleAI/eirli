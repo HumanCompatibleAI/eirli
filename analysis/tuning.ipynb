{
 "cells": [
  {
   "cell_type": "markdown",
   "metadata": {},
   "source": [
    "# Investigating Ray Tune hyperparameter tuning runs\n",
    "\n",
    "This notebook uses Ray Tune's built-in search visualisation tools to show you how well tuning is doing, which hyperparameters are important/unimportant, etc. I suggest pointing it to your running Ray Tune search & regularly running it to make sure that the search is making progress. You may need to periodically interrupt your search & restart with tighter hyperparameter search ranges if you find that some hyperparameters are consistently terrible."
   ]
  },
  {
   "cell_type": "code",
   "execution_count": null,
   "metadata": {},
   "outputs": [],
   "source": [
    "%matplotlib inline\n",
    "\n",
    "import glob\n",
    "import os\n",
    "\n",
    "import cloudpickle\n",
    "import matplotlib.pyplot as plt\n",
    "import numpy as np\n",
    "import pandas as pd\n",
    "import ray\n",
    "import seaborn as sns\n",
    "\n",
    "from ray import tune\n",
    "from skopt.plots import plot_evaluations, plot_objective\n",
    "\n",
    "sns.set(context='notebook', style='darkgrid')"
   ]
  },
  {
   "cell_type": "markdown",
   "metadata": {},
   "source": [
    "## Variables that you can configure"
   ]
  },
  {
   "cell_type": "code",
   "execution_count": null,
   "metadata": {},
   "outputs": [],
   "source": [
    "# Directory used by the running Ray Tune instance. Should contain a file named\n",
    "# experiment_state-<date>.json.\n",
    "# *THIS SHOULD BE THE ONLY THING YOU NEED TO CHANGE*\n",
    "RUNNING_RAY_TUNE_DIR = 'runs/chain_runs/16/grid_search/'"
   ]
  },
  {
   "cell_type": "markdown",
   "metadata": {},
   "source": [
    "## Loading internal scikit-optimise experiment state"
   ]
  },
  {
   "cell_type": "code",
   "execution_count": null,
   "metadata": {},
   "outputs": [],
   "source": [
    "search_alg_pattern = os.path.join(RUNNING_RAY_TUNE_DIR, 'search-alg-*.pkl')\n",
    "pickle_paths = glob.glob(search_alg_pattern)\n",
    "if not pickle_paths:\n",
    "    raise IOError(\n",
    "        \"Could not find any matches for skopt state pattern, \"\n",
    "        f\"{search_alg_pattern!r}. Check whether skopt's .pkl file actually \"\n",
    "        f\"exists in RUNNING_RAY_TUNE_DIR={RUNNING_RAY_TUNE_DIR!r}.\")\n",
    "with open(pickle_path, 'rb') as fp:\n",
    "    _, skopt_alg = cloudpickle.load(fp)\n",
    "skopt_res = skopt_alg.get_result()"
   ]
  },
  {
   "cell_type": "markdown",
   "metadata": {},
   "source": [
    "## Generating hyperparameter sensitivity plots"
   ]
  },
  {
   "cell_type": "code",
   "execution_count": null,
   "metadata": {},
   "outputs": [],
   "source": [
    "_ = plot_evaluations(skopt_res)"
   ]
  },
  {
   "cell_type": "code",
   "execution_count": null,
   "metadata": {},
   "outputs": [],
   "source": [
    "_ = plot_objective(skopt_res, n_samples=40)  # , minimum='expected_minimum_random', n_minimum_search=1000)"
   ]
  },
  {
   "cell_type": "code",
   "execution_count": null,
   "metadata": {},
   "outputs": [],
   "source": [
    "n_results = len(skopt_res.func_vals)\n",
    "sns.distplot(skopt_res.func_vals, rug=True, norm_hist=False, kde=False, bins=10 if n_results >= 20 else None)\n",
    "plt.title(f\"Final loss distribution from {n_results} runs (lower = better)\")\n",
    "plt.xlabel(\"Final loss\")\n",
    "plt.ylabel(\"Frequency\")\n",
    "plt.show()"
   ]
  },
  {
   "cell_type": "markdown",
   "metadata": {},
   "source": [
    "## Listing the best encountered hyperparameter settings, ordered by loss"
   ]
  },
  {
   "cell_type": "code",
   "execution_count": null,
   "metadata": {},
   "outputs": [],
   "source": [
    "# we plot any config that has loss below 'thresh'\n",
    "# (by default, I've made it show the top 10 best configs;\n",
    "# you can change 'thresh' to anything you want)\n",
    "thresh = max(sorted(skopt_res.func_vals)[:10])\n",
    "good_inds, = np.nonzero(skopt_res.func_vals <= thresh)\n",
    "for conf_num, good_ind in enumerate(good_inds, start=1):\n",
    "    print(\n",
    "        f\"Good config at index {good_ind} ({conf_num}/\"\n",
    "        f\"{len(good_inds)}), thresh {thresh}:\")\n",
    "    # TODO: print function value here too\n",
    "    all_dims = skopt_res.space.dimensions\n",
    "    for dim, value in zip(all_dims, skopt_res.x_iters[good_ind]):\n",
    "        print(f'    {dim.name} = {value}')\n",
    "        \n",
    "print(f'Amalgamated \"good\" configs at thresh {thresh}:')\n",
    "for dim_idx, dimension in enumerate(skopt_res.space.dimensions):\n",
    "    values = [skopt_res.x_iters[i][dim_idx] for i in good_inds]\n",
    "    if isinstance(values[0], float):\n",
    "        values_str = f\"[{', '.join('%.3g' % v for v in values)}]\"\n",
    "    else:\n",
    "        values_str = str(values)\n",
    "    print(f'    {dimension.name} = {values_str}')"
   ]
  },
  {
   "cell_type": "markdown",
   "metadata": {},
   "source": [
    "## Getting skopt to guess which configurations are going to perform best"
   ]
  },
  {
   "cell_type": "code",
   "execution_count": null,
   "metadata": {},
   "outputs": [],
   "source": [
    "skopt_minima = []\n",
    "for i in range(10):\n",
    "    skopt_min = expected_minimum_random_sampling(\n",
    "        skopt_res, n_random_starts=1000000)\n",
    "    skopt_minima.append(skopt_min[0])\n",
    "print(\"skopt's guess at best configs (randomly sampled proposals):\")\n",
    "for idx, dim in enumerate(skopt_res.space.dimensions):\n",
    "    name = dim.name\n",
    "    values = [m[idx] for m in skopt_minima]\n",
    "    if isinstance(values[0], float):\n",
    "        stringified = [f'{v:.3g}' for v in values]\n",
    "    else:\n",
    "        stringified = map(str, values)\n",
    "    min_str = f'  {name} = [{\", \".join(stringified)}]'\n",
    "    print(min_str)"
   ]
  }
 ],
 "metadata": {
  "kernelspec": {
   "display_name": "Python 3",
   "language": "python",
   "name": "python3"
  },
  "language_info": {
   "codemirror_mode": {
    "name": "ipython",
    "version": 3
   },
   "file_extension": ".py",
   "mimetype": "text/x-python",
   "name": "python",
   "nbconvert_exporter": "python",
   "pygments_lexer": "ipython3",
   "version": "3.8.3"
  }
 },
 "nbformat": 4,
 "nbformat_minor": 4
}
