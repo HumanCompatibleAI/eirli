{
 "cells": [
  {
   "cell_type": "code",
   "execution_count": 1,
   "metadata": {},
   "outputs": [],
   "source": [
    "runs_directory = \"/scratch/sam/il-representations-gcp-volume/cluster-data/cluster-2020-09-27T03:04Z\""
   ]
  },
  {
   "cell_type": "markdown",
   "metadata": {},
   "source": [
    "# Filter for runs whose performance exceeds vanilla IL baseline"
   ]
  },
  {
   "cell_type": "code",
   "execution_count": 2,
   "metadata": {},
   "outputs": [],
   "source": [
    "import glob\n",
    "import json\n",
    "import os"
   ]
  },
  {
   "cell_type": "code",
   "execution_count": 3,
   "metadata": {},
   "outputs": [],
   "source": [
    "# Glob the test result files\n",
    "glob_query = \"chain_runs/[0-9]*/il_test/[0-9]*/run.json\"\n",
    "glob_arg = os.path.join(runs_directory, glob_query)\n",
    "evaluation_files = glob.glob(glob_arg)"
   ]
  },
  {
   "cell_type": "code",
   "execution_count": 4,
   "metadata": {},
   "outputs": [],
   "source": [
    "# Helper function to parse mean return from .json file\n",
    "def get_evaluation_result(filename):\n",
    "    with open(filename, 'r') as f:\n",
    "        results = json.load(f)\n",
    "        if results['result'] is not None:\n",
    "            return results['result']['return_mean']['value']\n",
    "        else:\n",
    "            return float(\"-inf\")"
   ]
  },
  {
   "cell_type": "code",
   "execution_count": 5,
   "metadata": {},
   "outputs": [
    {
     "name": "stdout",
     "output_type": "stream",
     "text": [
      "[-inf, 0.7050000000000001, 0.3775, 0.42489583333333336, 0.7023615163435576]\n"
     ]
    }
   ],
   "source": [
    "# Parse the test result files for mean return\n",
    "evaluation_results = []\n",
    "for filename in evaluation_files:\n",
    "    evaluation_result = get_evaluation_result(filename)\n",
    "    evaluation_results.append(evaluation_result)\n",
    "print(evaluation_results)"
   ]
  },
  {
   "cell_type": "code",
   "execution_count": 6,
   "metadata": {},
   "outputs": [],
   "source": [
    "# Filter for test result files that exceed IL baseline return\n",
    "baseline_filename = evaluation_files[0]  #TODO put the filename of the baseline IL run here\n",
    "baseline_return = get_evaluation_result(baseline_filename)\n",
    "runs_with_improvement = []\n",
    "for run_file, run_return in zip(evaluation_files, evaluation_results):\n",
    "    if run_return > baseline_return:\n",
    "        run_name = os.path.dirname(run_file)\n",
    "        runs_with_improvement.append(run_name)"
   ]
  },
  {
   "cell_type": "code",
   "execution_count": 7,
   "metadata": {},
   "outputs": [
    {
     "name": "stdout",
     "output_type": "stream",
     "text": [
      "['/scratch/sam/il-representations-gcp-volume/cluster-data/cluster-2020-09-27T03:04Z/chain_runs/10/il_test/5/run.json', '/scratch/sam/il-representations-gcp-volume/cluster-data/cluster-2020-09-27T03:04Z/chain_runs/10/il_test/1/run.json', '/scratch/sam/il-representations-gcp-volume/cluster-data/cluster-2020-09-27T03:04Z/chain_runs/10/il_test/2/run.json', '/scratch/sam/il-representations-gcp-volume/cluster-data/cluster-2020-09-27T03:04Z/chain_runs/10/il_test/4/run.json', '/scratch/sam/il-representations-gcp-volume/cluster-data/cluster-2020-09-27T03:04Z/chain_runs/10/il_test/3/run.json']\n",
      "\n",
      "\n",
      "[-inf, 0.7050000000000001, 0.3775, 0.42489583333333336, 0.7023615163435576]\n",
      "\n",
      "\n",
      "['/scratch/sam/il-representations-gcp-volume/cluster-data/cluster-2020-09-27T03:04Z/chain_runs/10/il_test/1', '/scratch/sam/il-representations-gcp-volume/cluster-data/cluster-2020-09-27T03:04Z/chain_runs/10/il_test/2', '/scratch/sam/il-representations-gcp-volume/cluster-data/cluster-2020-09-27T03:04Z/chain_runs/10/il_test/4', '/scratch/sam/il-representations-gcp-volume/cluster-data/cluster-2020-09-27T03:04Z/chain_runs/10/il_test/3']\n"
     ]
    }
   ],
   "source": [
    "print(evaluation_files)\n",
    "print('\\n')\n",
    "print(evaluation_results)\n",
    "print('\\n')\n",
    "print(runs_with_improvement)"
   ]
  }
 ],
 "metadata": {
  "kernelspec": {
   "display_name": "Python 3",
   "language": "python",
   "name": "python3"
  },
  "language_info": {
   "codemirror_mode": {
    "name": "ipython",
    "version": 3
   },
   "file_extension": ".py",
   "mimetype": "text/x-python",
   "name": "python",
   "nbconvert_exporter": "python",
   "pygments_lexer": "ipython3",
   "version": "3.7.9"
  }
 },
 "nbformat": 4,
 "nbformat_minor": 4
}
